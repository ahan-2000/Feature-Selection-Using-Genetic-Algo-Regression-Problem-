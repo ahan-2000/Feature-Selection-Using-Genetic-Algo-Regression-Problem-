{
  "nbformat": 4,
  "nbformat_minor": 0,
  "metadata": {
    "colab": {
      "name": "Genetic Algorithm for Feature Selection Final Copy.ipynb",
      "provenance": [],
      "collapsed_sections": [],
      "authorship_tag": "ABX9TyNfRmsmIN26IG8xtCxQAw2+",
      "include_colab_link": true
    },
    "kernelspec": {
      "name": "python3",
      "display_name": "Python 3"
    }
  },
  "cells": [
    {
      "cell_type": "markdown",
      "metadata": {
        "id": "view-in-github",
        "colab_type": "text"
      },
      "source": [
        "<a href=\"https://colab.research.google.com/github/ahan-2000/Feature-Selection-Using-Genetic-Algo-Regression-Problem-/blob/master/Genetic_Algorithm_for_Feature_Selection_Final_Copy.ipynb\" target=\"_parent\"><img src=\"https://colab.research.google.com/assets/colab-badge.svg\" alt=\"Open In Colab\"/></a>"
      ]
    },
    {
      "cell_type": "code",
      "metadata": {
        "id": "7HxV0JPo3TKM",
        "colab_type": "code",
        "colab": {
          "resources": {
            "http://localhost:8080/nbextensions/google.colab/files.js": {
              "data": "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",
              "ok": true,
              "headers": [
                [
                  "content-type",
                  "application/javascript"
                ]
              ],
              "status": 200,
              "status_text": ""
            }
          },
          "base_uri": "https://localhost:8080/",
          "height": 106
        },
        "outputId": "cd7511b7-ace8-4e05-9d12-b91e6d2c5e35"
      },
      "source": [
        "#Uploading the file\n",
        "\n",
        "from google.colab import files\n",
        "uploaded = files.upload()"
      ],
      "execution_count": null,
      "outputs": [
        {
          "output_type": "display_data",
          "data": {
            "text/html": [
              "\n",
              "     <input type=\"file\" id=\"files-92e518af-3369-419f-8dfc-e4f21351d9ca\" name=\"files[]\" multiple disabled\n",
              "        style=\"border:none\" />\n",
              "     <output id=\"result-92e518af-3369-419f-8dfc-e4f21351d9ca\">\n",
              "      Upload widget is only available when the cell has been executed in the\n",
              "      current browser session. Please rerun this cell to enable.\n",
              "      </output>\n",
              "      <script src=\"/nbextensions/google.colab/files.js\"></script> "
            ],
            "text/plain": [
              "<IPython.core.display.HTML object>"
            ]
          },
          "metadata": {
            "tags": []
          }
        },
        {
          "output_type": "stream",
          "text": [
            "Saving test.xlsx to test.xlsx\n",
            "Saving train.xlsx to train.xlsx\n"
          ],
          "name": "stdout"
        }
      ]
    },
    {
      "cell_type": "code",
      "metadata": {
        "id": "1EW1EkcH3g6y",
        "colab_type": "code",
        "colab": {
          "base_uri": "https://localhost:8080/",
          "height": 118
        },
        "outputId": "b3abf8c5-65c2-461f-c391-4140cf52f1cf"
      },
      "source": [
        "!pip install deap"
      ],
      "execution_count": null,
      "outputs": [
        {
          "output_type": "stream",
          "text": [
            "Collecting deap\n",
            "\u001b[?25l  Downloading https://files.pythonhosted.org/packages/0a/eb/2bd0a32e3ce757fb26264765abbaedd6d4d3640d90219a513aeabd08ee2b/deap-1.3.1-cp36-cp36m-manylinux2010_x86_64.whl (157kB)\n",
            "\r\u001b[K     |██                              | 10kB 16.4MB/s eta 0:00:01\r\u001b[K     |████▏                           | 20kB 2.9MB/s eta 0:00:01\r\u001b[K     |██████▎                         | 30kB 4.0MB/s eta 0:00:01\r\u001b[K     |████████▍                       | 40kB 4.3MB/s eta 0:00:01\r\u001b[K     |██████████▍                     | 51kB 3.3MB/s eta 0:00:01\r\u001b[K     |████████████▌                   | 61kB 3.7MB/s eta 0:00:01\r\u001b[K     |██████████████▋                 | 71kB 4.0MB/s eta 0:00:01\r\u001b[K     |████████████████▊               | 81kB 4.5MB/s eta 0:00:01\r\u001b[K     |██████████████████▊             | 92kB 4.7MB/s eta 0:00:01\r\u001b[K     |████████████████████▉           | 102kB 4.6MB/s eta 0:00:01\r\u001b[K     |███████████████████████         | 112kB 4.6MB/s eta 0:00:01\r\u001b[K     |█████████████████████████       | 122kB 4.6MB/s eta 0:00:01\r\u001b[K     |███████████████████████████▏    | 133kB 4.6MB/s eta 0:00:01\r\u001b[K     |█████████████████████████████▏  | 143kB 4.6MB/s eta 0:00:01\r\u001b[K     |███████████████████████████████▎| 153kB 4.6MB/s eta 0:00:01\r\u001b[K     |████████████████████████████████| 163kB 4.6MB/s \n",
            "\u001b[?25hRequirement already satisfied: numpy in /usr/local/lib/python3.6/dist-packages (from deap) (1.18.5)\n",
            "Installing collected packages: deap\n",
            "Successfully installed deap-1.3.1\n"
          ],
          "name": "stdout"
        }
      ]
    },
    {
      "cell_type": "code",
      "metadata": {
        "id": "pQ7K3mL_3mkx",
        "colab_type": "code",
        "colab": {
          "base_uri": "https://localhost:8080/",
          "height": 370
        },
        "outputId": "c03406fd-1ff3-4d0f-a6ee-2c42f9508248"
      },
      "source": [
        "!pip install scoop"
      ],
      "execution_count": null,
      "outputs": [
        {
          "output_type": "stream",
          "text": [
            "Collecting scoop\n",
            "\u001b[?25l  Downloading https://files.pythonhosted.org/packages/88/78/d175920fd8a6d4d607c45477731835ba7aa5f03924e556f9e8f1b50fb9a1/scoop-0.7.1.1.tar.gz (603kB)\n",
            "\u001b[K     |████████████████████████████████| 604kB 4.9MB/s \n",
            "\u001b[?25hCollecting greenlet>=0.3.4\n",
            "\u001b[?25l  Downloading https://files.pythonhosted.org/packages/7e/a4/0d8685c98986326534b0753a8b92b3082bc9df42b348bc50d6c69839c9f9/greenlet-0.4.16-cp36-cp36m-manylinux1_x86_64.whl (44kB)\n",
            "\u001b[K     |████████████████████████████████| 51kB 6.6MB/s \n",
            "\u001b[?25hRequirement already satisfied: pyzmq>=13.1.0 in /usr/local/lib/python3.6/dist-packages (from scoop) (19.0.2)\n",
            "Collecting argparse>=1.1\n",
            "  Downloading https://files.pythonhosted.org/packages/f2/94/3af39d34be01a24a6e65433d19e107099374224905f1e0cc6bbe1fd22a2f/argparse-1.4.0-py2.py3-none-any.whl\n",
            "Building wheels for collected packages: scoop\n",
            "  Building wheel for scoop (setup.py) ... \u001b[?25l\u001b[?25hdone\n",
            "  Created wheel for scoop: filename=scoop-0.7.1.1-cp36-none-any.whl size=72125 sha256=bed4b9f9ad054ad525c5c7df5a49fbf0872e8e85eb382673400a58a048b1d0f5\n",
            "  Stored in directory: /root/.cache/pip/wheels/9e/54/e5/5105f5602fdc4a1fbc911d786ca1114ee8f870ac00752d302f\n",
            "Successfully built scoop\n",
            "Installing collected packages: greenlet, argparse, scoop\n",
            "Successfully installed argparse-1.4.0 greenlet-0.4.16 scoop-0.7.1.1\n"
          ],
          "name": "stdout"
        },
        {
          "output_type": "display_data",
          "data": {
            "application/vnd.colab-display-data+json": {
              "pip_warning": {
                "packages": [
                  "argparse"
                ]
              }
            }
          },
          "metadata": {
            "tags": []
          }
        }
      ]
    },
    {
      "cell_type": "code",
      "metadata": {
        "id": "GDUAhjp43fTl",
        "colab_type": "code",
        "colab": {}
      },
      "source": [
        "import pandas as pd\n",
        "from sklearn.preprocessing import LabelEncoder\n",
        "from sklearn.model_selection import train_test_split\n",
        "from sklearn.linear_model import LogisticRegression\n",
        "from sklearn.metrics import accuracy_score\n",
        "from deap import creator, base, tools, algorithms\n",
        "from scoop import futures\n",
        "import random\n",
        "import numpy\n",
        "from scipy import interpolate\n",
        "import matplotlib.pyplot as plt\n",
        "from sklearn.linear_model import LinearRegression  \n",
        "from sklearn import metrics"
      ],
      "execution_count": null,
      "outputs": []
    },
    {
      "cell_type": "code",
      "metadata": {
        "id": "ZwrjfRH73Wcr",
        "colab_type": "code",
        "colab": {}
      },
      "source": [
        "#Dataframe\n",
        "\n",
        "df=pd.read_excel('train.xlsx')\n",
        "dt=pd.read_excel('test.xlsx')"
      ],
      "execution_count": null,
      "outputs": []
    },
    {
      "cell_type": "code",
      "metadata": {
        "id": "EfTOGPSs3cKE",
        "colab_type": "code",
        "colab": {
          "base_uri": "https://localhost:8080/",
          "height": 229
        },
        "outputId": "901278a9-8884-4aca-eaed-213c47820db6"
      },
      "source": [
        "df.head()"
      ],
      "execution_count": null,
      "outputs": [
        {
          "output_type": "execute_result",
          "data": {
            "text/html": [
              "<div>\n",
              "<style scoped>\n",
              "    .dataframe tbody tr th:only-of-type {\n",
              "        vertical-align: middle;\n",
              "    }\n",
              "\n",
              "    .dataframe tbody tr th {\n",
              "        vertical-align: top;\n",
              "    }\n",
              "\n",
              "    .dataframe thead th {\n",
              "        text-align: right;\n",
              "    }\n",
              "</style>\n",
              "<table border=\"1\" class=\"dataframe\">\n",
              "  <thead>\n",
              "    <tr style=\"text-align: right;\">\n",
              "      <th></th>\n",
              "      <th>SAMPLE ID</th>\n",
              "      <th>LENGTH OF METAL BILLET(IN mm)(L)</th>\n",
              "      <th>WIDTH OF METAL BILLET(IN mm)</th>\n",
              "      <th>HEIGHT OF METAL BILLET(IN mm)</th>\n",
              "      <th>ROLL PRESSURE(IN MPa)\\n</th>\n",
              "      <th>AVERAGE FLOW STRESS(бfm)\\n(IN MPa)\\n</th>\n",
              "      <th>PRESSURE INTENSIFICATION FACTOR(Qp)</th>\n",
              "      <th>ROLL SEPERATING FORCE PER UNIT WIDTH(IN KN/mm)</th>\n",
              "    </tr>\n",
              "  </thead>\n",
              "  <tbody>\n",
              "    <tr>\n",
              "      <th>0</th>\n",
              "      <td>1</td>\n",
              "      <td>120</td>\n",
              "      <td>120</td>\n",
              "      <td>12000</td>\n",
              "      <td>950.0</td>\n",
              "      <td>445.3</td>\n",
              "      <td>2.13</td>\n",
              "      <td>130.891</td>\n",
              "    </tr>\n",
              "    <tr>\n",
              "      <th>1</th>\n",
              "      <td>2</td>\n",
              "      <td>120</td>\n",
              "      <td>120</td>\n",
              "      <td>12000</td>\n",
              "      <td>975.0</td>\n",
              "      <td>423.0</td>\n",
              "      <td>2.30</td>\n",
              "      <td>134.260</td>\n",
              "    </tr>\n",
              "    <tr>\n",
              "      <th>2</th>\n",
              "      <td>3</td>\n",
              "      <td>120</td>\n",
              "      <td>120</td>\n",
              "      <td>12000</td>\n",
              "      <td>953.0</td>\n",
              "      <td>450.5</td>\n",
              "      <td>2.12</td>\n",
              "      <td>131.798</td>\n",
              "    </tr>\n",
              "    <tr>\n",
              "      <th>3</th>\n",
              "      <td>4</td>\n",
              "      <td>120</td>\n",
              "      <td>120</td>\n",
              "      <td>12000</td>\n",
              "      <td>982.2</td>\n",
              "      <td>456.5</td>\n",
              "      <td>2.15</td>\n",
              "      <td>135.443</td>\n",
              "    </tr>\n",
              "    <tr>\n",
              "      <th>4</th>\n",
              "      <td>5</td>\n",
              "      <td>120</td>\n",
              "      <td>120</td>\n",
              "      <td>12000</td>\n",
              "      <td>1000.5</td>\n",
              "      <td>425.0</td>\n",
              "      <td>2.35</td>\n",
              "      <td>137.827</td>\n",
              "    </tr>\n",
              "  </tbody>\n",
              "</table>\n",
              "</div>"
            ],
            "text/plain": [
              "   SAMPLE ID   ...  ROLL SEPERATING FORCE PER UNIT WIDTH(IN KN/mm)\n",
              "0           1  ...                                         130.891\n",
              "1           2  ...                                         134.260\n",
              "2           3  ...                                         131.798\n",
              "3           4  ...                                         135.443\n",
              "4           5  ...                                         137.827\n",
              "\n",
              "[5 rows x 8 columns]"
            ]
          },
          "metadata": {
            "tags": []
          },
          "execution_count": 87
        }
      ]
    },
    {
      "cell_type": "code",
      "metadata": {
        "id": "fuexobwI3wrD",
        "colab_type": "code",
        "colab": {
          "base_uri": "https://localhost:8080/",
          "height": 229
        },
        "outputId": "453d1c3c-32ac-49cd-842e-65819b081765"
      },
      "source": [
        "dt.head()"
      ],
      "execution_count": null,
      "outputs": [
        {
          "output_type": "execute_result",
          "data": {
            "text/html": [
              "<div>\n",
              "<style scoped>\n",
              "    .dataframe tbody tr th:only-of-type {\n",
              "        vertical-align: middle;\n",
              "    }\n",
              "\n",
              "    .dataframe tbody tr th {\n",
              "        vertical-align: top;\n",
              "    }\n",
              "\n",
              "    .dataframe thead th {\n",
              "        text-align: right;\n",
              "    }\n",
              "</style>\n",
              "<table border=\"1\" class=\"dataframe\">\n",
              "  <thead>\n",
              "    <tr style=\"text-align: right;\">\n",
              "      <th></th>\n",
              "      <th>SAMPLE ID</th>\n",
              "      <th>LENGTH OF   METAL           BILLET                  (IN mm) (L)</th>\n",
              "      <th>WIDTH OF                            METAL                                  BILLET                                         (IN mm)</th>\n",
              "      <th>HEIGHT OF                             METAL                                   BILLET                                          (IN mm)</th>\n",
              "      <th>ROLL  PRESSURE      (IN MPa)\\n</th>\n",
              "      <th>AVERAGE FLOW STRESS(бfm)\\n(IN MPa)\\n</th>\n",
              "      <th>PRESSURE                        INTENSIFICATION                       FACTOR(Qp)</th>\n",
              "      <th>ROLL SEPERATING  FORCE PER UNIT WIDTH(IN KN/mm) AS PER THE ORIGINAL DATASET</th>\n",
              "      <th>ROLL SEPERATING  FORCE PER UNIT WIDTH(IN KN/mm)  AS PER THE EMPIRICAL FORMULA</th>\n",
              "    </tr>\n",
              "  </thead>\n",
              "  <tbody>\n",
              "    <tr>\n",
              "      <th>0</th>\n",
              "      <td>1</td>\n",
              "      <td>120</td>\n",
              "      <td>120</td>\n",
              "      <td>12000</td>\n",
              "      <td>950.0</td>\n",
              "      <td>445.3</td>\n",
              "      <td>2.13</td>\n",
              "      <td>132</td>\n",
              "      <td>130.891</td>\n",
              "    </tr>\n",
              "    <tr>\n",
              "      <th>1</th>\n",
              "      <td>2</td>\n",
              "      <td>120</td>\n",
              "      <td>120</td>\n",
              "      <td>12000</td>\n",
              "      <td>975.0</td>\n",
              "      <td>423.0</td>\n",
              "      <td>2.30</td>\n",
              "      <td>135</td>\n",
              "      <td>134.260</td>\n",
              "    </tr>\n",
              "    <tr>\n",
              "      <th>2</th>\n",
              "      <td>3</td>\n",
              "      <td>120</td>\n",
              "      <td>120</td>\n",
              "      <td>12000</td>\n",
              "      <td>953.0</td>\n",
              "      <td>450.5</td>\n",
              "      <td>2.12</td>\n",
              "      <td>133</td>\n",
              "      <td>131.798</td>\n",
              "    </tr>\n",
              "    <tr>\n",
              "      <th>3</th>\n",
              "      <td>4</td>\n",
              "      <td>120</td>\n",
              "      <td>120</td>\n",
              "      <td>12000</td>\n",
              "      <td>982.2</td>\n",
              "      <td>456.5</td>\n",
              "      <td>2.15</td>\n",
              "      <td>136</td>\n",
              "      <td>135.443</td>\n",
              "    </tr>\n",
              "    <tr>\n",
              "      <th>4</th>\n",
              "      <td>5</td>\n",
              "      <td>120</td>\n",
              "      <td>120</td>\n",
              "      <td>12000</td>\n",
              "      <td>1000.5</td>\n",
              "      <td>425.0</td>\n",
              "      <td>2.35</td>\n",
              "      <td>138</td>\n",
              "      <td>137.827</td>\n",
              "    </tr>\n",
              "  </tbody>\n",
              "</table>\n",
              "</div>"
            ],
            "text/plain": [
              "   SAMPLE ID   ...  ROLL SEPERATING  FORCE PER UNIT WIDTH(IN KN/mm)  AS PER THE EMPIRICAL FORMULA \n",
              "0           1  ...                                            130.891                             \n",
              "1           2  ...                                            134.260                             \n",
              "2           3  ...                                            131.798                             \n",
              "3           4  ...                                            135.443                             \n",
              "4           5  ...                                            137.827                             \n",
              "\n",
              "[5 rows x 9 columns]"
            ]
          },
          "metadata": {
            "tags": []
          },
          "execution_count": 51
        }
      ]
    },
    {
      "cell_type": "code",
      "metadata": {
        "id": "yOzmLoTC3z35",
        "colab_type": "code",
        "colab": {}
      },
      "source": [
        "y = df['ROLL SEPERATING FORCE PER UNIT WIDTH(IN KN/mm)']\n",
        "X = df.drop(['ROLL SEPERATING FORCE PER UNIT WIDTH(IN KN/mm)'], axis=1)"
      ],
      "execution_count": null,
      "outputs": []
    },
    {
      "cell_type": "code",
      "metadata": {
        "id": "U3Eg02PO4hlU",
        "colab_type": "code",
        "colab": {}
      },
      "source": [
        "# Form training, test, and validation sets\n",
        "X_trainAndTest, X_validation, y_trainAndTest, y_validation = train_test_split(allFeatures, allClasses, test_size=0.20, random_state=42)\n",
        "X_train, X_test, y_train, y_test = train_test_split(X_trainAndTest, y_trainAndTest, test_size=0.20, random_state=42)\n"
      ],
      "execution_count": null,
      "outputs": []
    },
    {
      "cell_type": "code",
      "metadata": {
        "id": "DAU_mJoTGMSZ",
        "colab_type": "code",
        "colab": {}
      },
      "source": [
        "'''\n",
        "\t# Parse our feature columns that we don't use\n",
        "\t# Apply one hot encoding to the features\n",
        "\tcols = [index for index in range(len(individual)) if individual[index] == 0]\n",
        "\tX_trainParsed = X_train.drop(X_train.columns[cols], axis=1)\n",
        "\tX_trainOhFeatures = pd.get_dummies(X_trainParsed)\n",
        "\tX_testParsed = X_test.drop(X_test.columns[cols], axis=1)\n",
        "\tX_testOhFeatures = pd.get_dummies(X_testParsed)\n",
        "\n",
        "\t# Remove any columns that aren't in both the training and test sets\n",
        "\tsharedFeatures = set(X_trainOhFeatures.columns) & set(X_testOhFeatures.columns)\n",
        "\tremoveFromTrain = set(X_trainOhFeatures.columns) - sharedFeatures\n",
        "\tremoveFromTest = set(X_testOhFeatures.columns) - sharedFeatures\n",
        "\tX_trainOhFeatures = X_trainOhFeatures.drop(list(removeFromTrain), axis=1)\n",
        "\tX_testOhFeatures = X_testOhFeatures.drop(list(removeFromTest), axis=1)\n",
        "'''"
      ],
      "execution_count": null,
      "outputs": []
    },
    {
      "cell_type": "code",
      "metadata": {
        "id": "-zrjCEfE44hS",
        "colab_type": "code",
        "colab": {}
      },
      "source": [
        "# Feature subset fitness function\n",
        "def getFitness(individual, X_train, X_test, y_train, y_test):\n",
        "\n",
        " # Apply linear regression on the data, and calculate accuracy\n",
        "\tclf = LinearRegression()\n",
        "\tclf.fit(X_train, y_train)\n",
        "\tpredictions = clf.predict(X_test)\n",
        "\taccuracy = metrics.mean_absolute_error(y_test, predictions)\n",
        "\n",
        "\t# Return calculated accuracy as fitness\n",
        "\treturn (accuracy,)"
      ],
      "execution_count": null,
      "outputs": []
    },
    {
      "cell_type": "code",
      "metadata": {
        "id": "SCSzVMna_K6g",
        "colab_type": "code",
        "colab": {}
      },
      "source": [
        ""
      ],
      "execution_count": null,
      "outputs": []
    },
    {
      "cell_type": "code",
      "metadata": {
        "id": "2DFOhPFL49It",
        "colab_type": "code",
        "colab": {
          "base_uri": "https://localhost:8080/",
          "height": 104
        },
        "outputId": "85a6a59e-4cb6-4d87-f58b-c8dbcf7ffc15"
      },
      "source": [
        "# Create Individual\n",
        "creator.create(\"FitnessMax\", base.Fitness, weights=(1.0,))\n",
        "creator.create(\"Individual\", list, fitness=creator.FitnessMax)\n",
        "\n",
        "# Create Toolbox\n",
        "toolbox = base.Toolbox()\n",
        "toolbox.register(\"attr_bool\", random.randint, 0, 1)\n",
        "toolbox.register(\"individual\", tools.initRepeat, creator.Individual, toolbox.attr_bool, len(df.columns) - 1)\n",
        "toolbox.register(\"population\", tools.initRepeat, list, toolbox.individual)\n",
        "\n",
        "# Continue filling toolbox...\n",
        "toolbox.register(\"evaluate\", getFitness, X_train=X_train, X_test=X_test, y_train=y_train, y_test=y_test)\n",
        "toolbox.register(\"mate\", tools.cxOnePoint)\n",
        "toolbox.register(\"mutate\", tools.mutFlipBit, indpb=0.05)\n",
        "toolbox.register(\"select\", tools.selTournament, tournsize=3)"
      ],
      "execution_count": null,
      "outputs": [
        {
          "output_type": "stream",
          "text": [
            "/usr/local/lib/python3.6/dist-packages/deap/creator.py:141: RuntimeWarning: A class named 'FitnessMax' has already been created and it will be overwritten. Consider deleting previous creation of that class or rename it.\n",
            "  RuntimeWarning)\n",
            "/usr/local/lib/python3.6/dist-packages/deap/creator.py:141: RuntimeWarning: A class named 'Individual' has already been created and it will be overwritten. Consider deleting previous creation of that class or rename it.\n",
            "  RuntimeWarning)\n"
          ],
          "name": "stderr"
        }
      ]
    },
    {
      "cell_type": "code",
      "metadata": {
        "id": "agqBU2OY5B3n",
        "colab_type": "code",
        "colab": {}
      },
      "source": [
        "def getHof():\n",
        "\n",
        "\t# Initialize variables to use eaSimple\n",
        "\tnumPop = 100\n",
        "\tnumGen = 10\n",
        "\tpop = toolbox.population(n=numPop)\n",
        "\thof = tools.HallOfFame(numPop * numGen)\n",
        "\tstats = tools.Statistics(lambda ind: ind.fitness.values)\n",
        "\tstats.register(\"avg\", numpy.mean)\n",
        "\tstats.register(\"std\", numpy.std)\n",
        "\tstats.register(\"min\", numpy.min)\n",
        "\tstats.register(\"max\", numpy.max)\n",
        "\n",
        "\t# Launch genetic algorithm\n",
        "\tpop, log = algorithms.eaSimple(pop, toolbox, cxpb=0.5, mutpb=0.2, ngen=numGen, stats=stats, halloffame=hof, verbose=True)\n",
        "\n",
        "\t# Return the hall of fame\n",
        "\treturn hof"
      ],
      "execution_count": null,
      "outputs": []
    },
    {
      "cell_type": "code",
      "metadata": {
        "id": "B2cKqXquFg67",
        "colab_type": "code",
        "colab": {
          "base_uri": "https://localhost:8080/",
          "height": 235
        },
        "outputId": "7611302c-ffe8-4064-f0e0-43b82827bc18"
      },
      "source": [
        "getHof()"
      ],
      "execution_count": null,
      "outputs": [
        {
          "output_type": "stream",
          "text": [
            "gen\tnevals\tavg      \tstd\tmin      \tmax      \n",
            "0  \t100   \t0.0553085\t0  \t0.0553085\t0.0553085\n",
            "1  \t67    \t0.0553085\t0  \t0.0553085\t0.0553085\n",
            "2  \t56    \t0.0553085\t0  \t0.0553085\t0.0553085\n",
            "3  \t64    \t0.0553085\t0  \t0.0553085\t0.0553085\n",
            "4  \t60    \t0.0553085\t0  \t0.0553085\t0.0553085\n",
            "5  \t59    \t0.0553085\t0  \t0.0553085\t0.0553085\n",
            "6  \t64    \t0.0553085\t0  \t0.0553085\t0.0553085\n",
            "7  \t52    \t0.0553085\t0  \t0.0553085\t0.0553085\n",
            "8  \t49    \t0.0553085\t0  \t0.0553085\t0.0553085\n",
            "9  \t57    \t0.0553085\t0  \t0.0553085\t0.0553085\n",
            "10 \t52    \t0.0553085\t0  \t0.0553085\t0.0553085\n"
          ],
          "name": "stdout"
        },
        {
          "output_type": "execute_result",
          "data": {
            "text/plain": [
              "<deap.tools.support.HallOfFame at 0x7fe024ddb278>"
            ]
          },
          "metadata": {
            "tags": []
          },
          "execution_count": 137
        }
      ]
    },
    {
      "cell_type": "code",
      "metadata": {
        "id": "QozXFXXw5Rux",
        "colab_type": "code",
        "colab": {}
      },
      "source": [
        "def getMetrics(hof):\n",
        "\n",
        "\t# Get list of percentiles in the hall of fame\n",
        "\tpercentileList = [i / (len(hof) - 1) for i in range(len(hof))]\n",
        "\t\n",
        "\t# Gather fitness data from each percentile\n",
        "\ttestAccuracyList = []\n",
        "\tvalidationAccuracyList = []\n",
        "\tindividualList = []\n",
        "\tfor individual in hof:\n",
        "\t\ttestAccuracy = individual.fitness.values\n",
        "\t\tvalidationAccuracy = getFitness(individual, X_trainAndTest, X_validation, y_trainAndTest, y_validation)\n",
        "\t\ttestAccuracyList.append(testAccuracy[0])\n",
        "\t\tvalidationAccuracyList.append(validationAccuracy[0])\n",
        "\t\tindividualList.append(individual)\n",
        "\ttestAccuracyList.reverse()\n",
        "\tvalidationAccuracyList.reverse()\n",
        "\treturn testAccuracyList, validationAccuracyList, individualList, percentileList\n"
      ],
      "execution_count": null,
      "outputs": []
    },
    {
      "cell_type": "code",
      "metadata": {
        "id": "4CcF6eVT-kIv",
        "colab_type": "code",
        "colab": {}
      },
      "source": [
        ""
      ],
      "execution_count": null,
      "outputs": []
    },
    {
      "cell_type": "code",
      "metadata": {
        "id": "pJJvHfgM5W25",
        "colab_type": "code",
        "colab": {
          "base_uri": "https://localhost:8080/",
          "height": 84
        },
        "outputId": "fde0f494-bc5f-4e2b-eb78-11d6eb62aa36"
      },
      "source": [
        "if __name__ == '__main__':\n",
        "\n",
        "\t'''\n",
        "\tFirst, we will apply logistic regression using all the features to acquire a baseline accuracy.\n",
        "\t'''\n",
        "\tindividual = [1 for i in range(len(allFeatures.columns))]\n",
        "\ttestAccuracy = getFitness(individual, X_train, X_test, y_train, y_test)\n",
        "\tvalidationAccuracy = getFitness(individual, X_trainAndTest, X_validation, y_trainAndTest, y_validation)\n",
        "\tprint('\\nTest accuracy with all features: \\t' + str(testAccuracy[0]))\n",
        "\tprint('Validation accuracy with all features: \\t' + str(validationAccuracy[0]) + '\\n')\n"
      ],
      "execution_count": null,
      "outputs": [
        {
          "output_type": "stream",
          "text": [
            "\n",
            "Test accuracy with all features: \t0.055308459625655004\n",
            "Validation accuracy with all features: \t0.059636559675765\n",
            "\n"
          ],
          "name": "stdout"
        }
      ]
    },
    {
      "cell_type": "code",
      "metadata": {
        "id": "NH1kbdUE5bo2",
        "colab_type": "code",
        "colab": {
          "base_uri": "https://localhost:8080/",
          "height": 1000
        },
        "outputId": "44c650f7-dab7-4464-f5f5-48108f8edf6f"
      },
      "source": [
        "\n",
        "hof = getHof()\n",
        "testAccuracyList, validationAccuracyList, individualList, percentileList = getMetrics(hof)\n",
        "\n",
        "\t# Get a list of subsets that performed best on validation data\n",
        "maxValAccSubsetIndicies = [index for index in range(len(validationAccuracyList)) if validationAccuracyList[index] == max(validationAccuracyList)]\n",
        "maxValIndividuals = [individualList[index] for index in maxValAccSubsetIndicies]\n",
        "maxValSubsets = [[list(allFeatures)[index] for index in range(len(individual)) if individual[index] == 1] for individual in maxValIndividuals]\n",
        "\n",
        "\n",
        "print('\\n---Optimal Feature Subset(s)---\\n')\n",
        "for index in range(len(maxValAccSubsetIndicies)):\n",
        "\tprint('Percentile: \\t\\t\\t' + str(percentileList[maxValAccSubsetIndicies[index]]))\n",
        "\tprint('Validation Accuracy: \\t\\t' + str(validationAccuracyList[maxValAccSubsetIndicies[index]]))\n",
        "\tprint('Individual: \\t' + str(maxValIndividuals[index]))\n",
        "\tprint('Number Features In Subset: \\t' + str(len(maxValSubsets[index])))\n",
        "\tprint('Feature Subset: ' + str(maxValSubsets[index]))\n"
      ],
      "execution_count": null,
      "outputs": [
        {
          "output_type": "stream",
          "text": [
            "gen\tnevals\tavg      \tstd\tmin      \tmax      \n",
            "0  \t100   \t0.0553085\t0  \t0.0553085\t0.0553085\n",
            "1  \t56    \t0.0553085\t0  \t0.0553085\t0.0553085\n",
            "2  \t53    \t0.0553085\t0  \t0.0553085\t0.0553085\n",
            "3  \t59    \t0.0553085\t0  \t0.0553085\t0.0553085\n",
            "4  \t65    \t0.0553085\t0  \t0.0553085\t0.0553085\n",
            "5  \t60    \t0.0553085\t0  \t0.0553085\t0.0553085\n",
            "6  \t62    \t0.0553085\t0  \t0.0553085\t0.0553085\n",
            "7  \t67    \t0.0553085\t0  \t0.0553085\t0.0553085\n",
            "8  \t64    \t0.0553085\t0  \t0.0553085\t0.0553085\n",
            "9  \t61    \t0.0553085\t0  \t0.0553085\t0.0553085\n",
            "10 \t51    \t0.0553085\t0  \t0.0553085\t0.0553085\n",
            "\n",
            "---Optimal Feature Subset(s)---\n",
            "\n",
            "Percentile: \t\t\t0.0\n",
            "Validation Accuracy: \t\t0.059636559675765\n",
            "Individual: \t[0, 1, 1, 1, 1, 0, 0]\n",
            "Number Features In Subset: \t4\n",
            "Feature Subset: ['LENGTH OF METAL BILLET(IN mm)(L)', 'WIDTH OF METAL BILLET(IN mm)', 'HEIGHT OF METAL BILLET(IN mm) ', 'ROLL PRESSURE(IN MPa)\\n']\n",
            "Percentile: \t\t\t0.008695652173913044\n",
            "Validation Accuracy: \t\t0.059636559675765\n",
            "Individual: \t[1, 1, 0, 1, 1, 1, 1]\n",
            "Number Features In Subset: \t6\n",
            "Feature Subset: ['SAMPLE ID ', 'LENGTH OF METAL BILLET(IN mm)(L)', 'HEIGHT OF METAL BILLET(IN mm) ', 'ROLL PRESSURE(IN MPa)\\n', 'AVERAGE FLOW STRESS(бfm)\\n(IN MPa)\\n', 'PRESSURE INTENSIFICATION FACTOR(Qp)']\n",
            "Percentile: \t\t\t0.017391304347826087\n",
            "Validation Accuracy: \t\t0.059636559675765\n",
            "Individual: \t[0, 1, 1, 1, 1, 1, 0]\n",
            "Number Features In Subset: \t5\n",
            "Feature Subset: ['LENGTH OF METAL BILLET(IN mm)(L)', 'WIDTH OF METAL BILLET(IN mm)', 'HEIGHT OF METAL BILLET(IN mm) ', 'ROLL PRESSURE(IN MPa)\\n', 'AVERAGE FLOW STRESS(бfm)\\n(IN MPa)\\n']\n",
            "Percentile: \t\t\t0.02608695652173913\n",
            "Validation Accuracy: \t\t0.059636559675765\n",
            "Individual: \t[1, 1, 1, 1, 0, 1, 1]\n",
            "Number Features In Subset: \t6\n",
            "Feature Subset: ['SAMPLE ID ', 'LENGTH OF METAL BILLET(IN mm)(L)', 'WIDTH OF METAL BILLET(IN mm)', 'HEIGHT OF METAL BILLET(IN mm) ', 'AVERAGE FLOW STRESS(бfm)\\n(IN MPa)\\n', 'PRESSURE INTENSIFICATION FACTOR(Qp)']\n",
            "Percentile: \t\t\t0.034782608695652174\n",
            "Validation Accuracy: \t\t0.059636559675765\n",
            "Individual: \t[1, 1, 0, 1, 1, 1, 0]\n",
            "Number Features In Subset: \t5\n",
            "Feature Subset: ['SAMPLE ID ', 'LENGTH OF METAL BILLET(IN mm)(L)', 'HEIGHT OF METAL BILLET(IN mm) ', 'ROLL PRESSURE(IN MPa)\\n', 'AVERAGE FLOW STRESS(бfm)\\n(IN MPa)\\n']\n",
            "Percentile: \t\t\t0.043478260869565216\n",
            "Validation Accuracy: \t\t0.059636559675765\n",
            "Individual: \t[1, 0, 0, 1, 1, 1, 1]\n",
            "Number Features In Subset: \t5\n",
            "Feature Subset: ['SAMPLE ID ', 'HEIGHT OF METAL BILLET(IN mm) ', 'ROLL PRESSURE(IN MPa)\\n', 'AVERAGE FLOW STRESS(бfm)\\n(IN MPa)\\n', 'PRESSURE INTENSIFICATION FACTOR(Qp)']\n",
            "Percentile: \t\t\t0.05217391304347826\n",
            "Validation Accuracy: \t\t0.059636559675765\n",
            "Individual: \t[1, 1, 0, 1, 0, 0, 1]\n",
            "Number Features In Subset: \t4\n",
            "Feature Subset: ['SAMPLE ID ', 'LENGTH OF METAL BILLET(IN mm)(L)', 'HEIGHT OF METAL BILLET(IN mm) ', 'PRESSURE INTENSIFICATION FACTOR(Qp)']\n",
            "Percentile: \t\t\t0.06086956521739131\n",
            "Validation Accuracy: \t\t0.059636559675765\n",
            "Individual: \t[1, 1, 0, 0, 1, 0, 1]\n",
            "Number Features In Subset: \t4\n",
            "Feature Subset: ['SAMPLE ID ', 'LENGTH OF METAL BILLET(IN mm)(L)', 'ROLL PRESSURE(IN MPa)\\n', 'PRESSURE INTENSIFICATION FACTOR(Qp)']\n",
            "Percentile: \t\t\t0.06956521739130435\n",
            "Validation Accuracy: \t\t0.059636559675765\n",
            "Individual: \t[0, 1, 1, 1, 0, 0, 0]\n",
            "Number Features In Subset: \t3\n",
            "Feature Subset: ['LENGTH OF METAL BILLET(IN mm)(L)', 'WIDTH OF METAL BILLET(IN mm)', 'HEIGHT OF METAL BILLET(IN mm) ']\n",
            "Percentile: \t\t\t0.0782608695652174\n",
            "Validation Accuracy: \t\t0.059636559675765\n",
            "Individual: \t[1, 0, 0, 0, 1, 0, 1]\n",
            "Number Features In Subset: \t3\n",
            "Feature Subset: ['SAMPLE ID ', 'ROLL PRESSURE(IN MPa)\\n', 'PRESSURE INTENSIFICATION FACTOR(Qp)']\n",
            "Percentile: \t\t\t0.08695652173913043\n",
            "Validation Accuracy: \t\t0.059636559675765\n",
            "Individual: \t[1, 1, 0, 0, 0, 1, 1]\n",
            "Number Features In Subset: \t4\n",
            "Feature Subset: ['SAMPLE ID ', 'LENGTH OF METAL BILLET(IN mm)(L)', 'AVERAGE FLOW STRESS(бfm)\\n(IN MPa)\\n', 'PRESSURE INTENSIFICATION FACTOR(Qp)']\n",
            "Percentile: \t\t\t0.09565217391304348\n",
            "Validation Accuracy: \t\t0.059636559675765\n",
            "Individual: \t[1, 0, 0, 0, 0, 1, 1]\n",
            "Number Features In Subset: \t3\n",
            "Feature Subset: ['SAMPLE ID ', 'AVERAGE FLOW STRESS(бfm)\\n(IN MPa)\\n', 'PRESSURE INTENSIFICATION FACTOR(Qp)']\n",
            "Percentile: \t\t\t0.10434782608695652\n",
            "Validation Accuracy: \t\t0.059636559675765\n",
            "Individual: \t[1, 0, 1, 1, 0, 0, 0]\n",
            "Number Features In Subset: \t3\n",
            "Feature Subset: ['SAMPLE ID ', 'WIDTH OF METAL BILLET(IN mm)', 'HEIGHT OF METAL BILLET(IN mm) ']\n",
            "Percentile: \t\t\t0.11304347826086956\n",
            "Validation Accuracy: \t\t0.059636559675765\n",
            "Individual: \t[0, 1, 1, 0, 0, 1, 1]\n",
            "Number Features In Subset: \t4\n",
            "Feature Subset: ['LENGTH OF METAL BILLET(IN mm)(L)', 'WIDTH OF METAL BILLET(IN mm)', 'AVERAGE FLOW STRESS(бfm)\\n(IN MPa)\\n', 'PRESSURE INTENSIFICATION FACTOR(Qp)']\n",
            "Percentile: \t\t\t0.12173913043478261\n",
            "Validation Accuracy: \t\t0.059636559675765\n",
            "Individual: \t[0, 1, 1, 0, 1, 1, 1]\n",
            "Number Features In Subset: \t5\n",
            "Feature Subset: ['LENGTH OF METAL BILLET(IN mm)(L)', 'WIDTH OF METAL BILLET(IN mm)', 'ROLL PRESSURE(IN MPa)\\n', 'AVERAGE FLOW STRESS(бfm)\\n(IN MPa)\\n', 'PRESSURE INTENSIFICATION FACTOR(Qp)']\n",
            "Percentile: \t\t\t0.13043478260869565\n",
            "Validation Accuracy: \t\t0.059636559675765\n",
            "Individual: \t[1, 1, 0, 1, 0, 0, 0]\n",
            "Number Features In Subset: \t3\n",
            "Feature Subset: ['SAMPLE ID ', 'LENGTH OF METAL BILLET(IN mm)(L)', 'HEIGHT OF METAL BILLET(IN mm) ']\n",
            "Percentile: \t\t\t0.1391304347826087\n",
            "Validation Accuracy: \t\t0.059636559675765\n",
            "Individual: \t[1, 0, 0, 1, 1, 0, 1]\n",
            "Number Features In Subset: \t4\n",
            "Feature Subset: ['SAMPLE ID ', 'HEIGHT OF METAL BILLET(IN mm) ', 'ROLL PRESSURE(IN MPa)\\n', 'PRESSURE INTENSIFICATION FACTOR(Qp)']\n",
            "Percentile: \t\t\t0.14782608695652175\n",
            "Validation Accuracy: \t\t0.059636559675765\n",
            "Individual: \t[0, 0, 1, 0, 0, 0, 0]\n",
            "Number Features In Subset: \t1\n",
            "Feature Subset: ['WIDTH OF METAL BILLET(IN mm)']\n",
            "Percentile: \t\t\t0.1565217391304348\n",
            "Validation Accuracy: \t\t0.059636559675765\n",
            "Individual: \t[0, 0, 0, 1, 0, 1, 1]\n",
            "Number Features In Subset: \t3\n",
            "Feature Subset: ['HEIGHT OF METAL BILLET(IN mm) ', 'AVERAGE FLOW STRESS(бfm)\\n(IN MPa)\\n', 'PRESSURE INTENSIFICATION FACTOR(Qp)']\n",
            "Percentile: \t\t\t0.16521739130434782\n",
            "Validation Accuracy: \t\t0.059636559675765\n",
            "Individual: \t[1, 1, 0, 0, 0, 0, 1]\n",
            "Number Features In Subset: \t3\n",
            "Feature Subset: ['SAMPLE ID ', 'LENGTH OF METAL BILLET(IN mm)(L)', 'PRESSURE INTENSIFICATION FACTOR(Qp)']\n",
            "Percentile: \t\t\t0.17391304347826086\n",
            "Validation Accuracy: \t\t0.059636559675765\n",
            "Individual: \t[1, 1, 1, 1, 0, 0, 1]\n",
            "Number Features In Subset: \t5\n",
            "Feature Subset: ['SAMPLE ID ', 'LENGTH OF METAL BILLET(IN mm)(L)', 'WIDTH OF METAL BILLET(IN mm)', 'HEIGHT OF METAL BILLET(IN mm) ', 'PRESSURE INTENSIFICATION FACTOR(Qp)']\n",
            "Percentile: \t\t\t0.1826086956521739\n",
            "Validation Accuracy: \t\t0.059636559675765\n",
            "Individual: \t[1, 1, 0, 0, 0, 0, 0]\n",
            "Number Features In Subset: \t2\n",
            "Feature Subset: ['SAMPLE ID ', 'LENGTH OF METAL BILLET(IN mm)(L)']\n",
            "Percentile: \t\t\t0.19130434782608696\n",
            "Validation Accuracy: \t\t0.059636559675765\n",
            "Individual: \t[0, 0, 1, 0, 0, 0, 1]\n",
            "Number Features In Subset: \t2\n",
            "Feature Subset: ['WIDTH OF METAL BILLET(IN mm)', 'PRESSURE INTENSIFICATION FACTOR(Qp)']\n",
            "Percentile: \t\t\t0.2\n",
            "Validation Accuracy: \t\t0.059636559675765\n",
            "Individual: \t[1, 0, 0, 1, 0, 0, 0]\n",
            "Number Features In Subset: \t2\n",
            "Feature Subset: ['SAMPLE ID ', 'HEIGHT OF METAL BILLET(IN mm) ']\n",
            "Percentile: \t\t\t0.20869565217391303\n",
            "Validation Accuracy: \t\t0.059636559675765\n",
            "Individual: \t[0, 1, 0, 1, 1, 1, 1]\n",
            "Number Features In Subset: \t5\n",
            "Feature Subset: ['LENGTH OF METAL BILLET(IN mm)(L)', 'HEIGHT OF METAL BILLET(IN mm) ', 'ROLL PRESSURE(IN MPa)\\n', 'AVERAGE FLOW STRESS(бfm)\\n(IN MPa)\\n', 'PRESSURE INTENSIFICATION FACTOR(Qp)']\n",
            "Percentile: \t\t\t0.21739130434782608\n",
            "Validation Accuracy: \t\t0.059636559675765\n",
            "Individual: \t[1, 1, 1, 1, 1, 0, 1]\n",
            "Number Features In Subset: \t6\n",
            "Feature Subset: ['SAMPLE ID ', 'LENGTH OF METAL BILLET(IN mm)(L)', 'WIDTH OF METAL BILLET(IN mm)', 'HEIGHT OF METAL BILLET(IN mm) ', 'ROLL PRESSURE(IN MPa)\\n', 'PRESSURE INTENSIFICATION FACTOR(Qp)']\n",
            "Percentile: \t\t\t0.22608695652173913\n",
            "Validation Accuracy: \t\t0.059636559675765\n",
            "Individual: \t[0, 1, 0, 0, 1, 0, 0]\n",
            "Number Features In Subset: \t2\n",
            "Feature Subset: ['LENGTH OF METAL BILLET(IN mm)(L)', 'ROLL PRESSURE(IN MPa)\\n']\n",
            "Percentile: \t\t\t0.23478260869565218\n",
            "Validation Accuracy: \t\t0.059636559675765\n",
            "Individual: \t[0, 0, 1, 1, 0, 0, 0]\n",
            "Number Features In Subset: \t2\n",
            "Feature Subset: ['WIDTH OF METAL BILLET(IN mm)', 'HEIGHT OF METAL BILLET(IN mm) ']\n",
            "Percentile: \t\t\t0.24347826086956523\n",
            "Validation Accuracy: \t\t0.059636559675765\n",
            "Individual: \t[0, 0, 1, 0, 1, 0, 0]\n",
            "Number Features In Subset: \t2\n",
            "Feature Subset: ['WIDTH OF METAL BILLET(IN mm)', 'ROLL PRESSURE(IN MPa)\\n']\n",
            "Percentile: \t\t\t0.25217391304347825\n",
            "Validation Accuracy: \t\t0.059636559675765\n",
            "Individual: \t[0, 1, 1, 1, 1, 1, 1]\n",
            "Number Features In Subset: \t6\n",
            "Feature Subset: ['LENGTH OF METAL BILLET(IN mm)(L)', 'WIDTH OF METAL BILLET(IN mm)', 'HEIGHT OF METAL BILLET(IN mm) ', 'ROLL PRESSURE(IN MPa)\\n', 'AVERAGE FLOW STRESS(бfm)\\n(IN MPa)\\n', 'PRESSURE INTENSIFICATION FACTOR(Qp)']\n",
            "Percentile: \t\t\t0.2608695652173913\n",
            "Validation Accuracy: \t\t0.059636559675765\n",
            "Individual: \t[0, 0, 1, 0, 1, 1, 0]\n",
            "Number Features In Subset: \t3\n",
            "Feature Subset: ['WIDTH OF METAL BILLET(IN mm)', 'ROLL PRESSURE(IN MPa)\\n', 'AVERAGE FLOW STRESS(бfm)\\n(IN MPa)\\n']\n",
            "Percentile: \t\t\t0.26956521739130435\n",
            "Validation Accuracy: \t\t0.059636559675765\n",
            "Individual: \t[0, 1, 1, 1, 1, 0, 1]\n",
            "Number Features In Subset: \t5\n",
            "Feature Subset: ['LENGTH OF METAL BILLET(IN mm)(L)', 'WIDTH OF METAL BILLET(IN mm)', 'HEIGHT OF METAL BILLET(IN mm) ', 'ROLL PRESSURE(IN MPa)\\n', 'PRESSURE INTENSIFICATION FACTOR(Qp)']\n",
            "Percentile: \t\t\t0.2782608695652174\n",
            "Validation Accuracy: \t\t0.059636559675765\n",
            "Individual: \t[1, 1, 0, 1, 0, 1, 0]\n",
            "Number Features In Subset: \t4\n",
            "Feature Subset: ['SAMPLE ID ', 'LENGTH OF METAL BILLET(IN mm)(L)', 'HEIGHT OF METAL BILLET(IN mm) ', 'AVERAGE FLOW STRESS(бfm)\\n(IN MPa)\\n']\n",
            "Percentile: \t\t\t0.28695652173913044\n",
            "Validation Accuracy: \t\t0.059636559675765\n",
            "Individual: \t[0, 1, 1, 0, 1, 0, 1]\n",
            "Number Features In Subset: \t4\n",
            "Feature Subset: ['LENGTH OF METAL BILLET(IN mm)(L)', 'WIDTH OF METAL BILLET(IN mm)', 'ROLL PRESSURE(IN MPa)\\n', 'PRESSURE INTENSIFICATION FACTOR(Qp)']\n",
            "Percentile: \t\t\t0.2956521739130435\n",
            "Validation Accuracy: \t\t0.059636559675765\n",
            "Individual: \t[1, 1, 1, 0, 1, 0, 1]\n",
            "Number Features In Subset: \t5\n",
            "Feature Subset: ['SAMPLE ID ', 'LENGTH OF METAL BILLET(IN mm)(L)', 'WIDTH OF METAL BILLET(IN mm)', 'ROLL PRESSURE(IN MPa)\\n', 'PRESSURE INTENSIFICATION FACTOR(Qp)']\n",
            "Percentile: \t\t\t0.30434782608695654\n",
            "Validation Accuracy: \t\t0.059636559675765\n",
            "Individual: \t[0, 1, 0, 1, 1, 0, 0]\n",
            "Number Features In Subset: \t3\n",
            "Feature Subset: ['LENGTH OF METAL BILLET(IN mm)(L)', 'HEIGHT OF METAL BILLET(IN mm) ', 'ROLL PRESSURE(IN MPa)\\n']\n",
            "Percentile: \t\t\t0.3130434782608696\n",
            "Validation Accuracy: \t\t0.059636559675765\n",
            "Individual: \t[1, 1, 1, 1, 0, 0, 0]\n",
            "Number Features In Subset: \t4\n",
            "Feature Subset: ['SAMPLE ID ', 'LENGTH OF METAL BILLET(IN mm)(L)', 'WIDTH OF METAL BILLET(IN mm)', 'HEIGHT OF METAL BILLET(IN mm) ']\n",
            "Percentile: \t\t\t0.3217391304347826\n",
            "Validation Accuracy: \t\t0.059636559675765\n",
            "Individual: \t[0, 0, 0, 1, 1, 0, 0]\n",
            "Number Features In Subset: \t2\n",
            "Feature Subset: ['HEIGHT OF METAL BILLET(IN mm) ', 'ROLL PRESSURE(IN MPa)\\n']\n",
            "Percentile: \t\t\t0.33043478260869563\n",
            "Validation Accuracy: \t\t0.059636559675765\n",
            "Individual: \t[0, 0, 0, 1, 1, 1, 1]\n",
            "Number Features In Subset: \t4\n",
            "Feature Subset: ['HEIGHT OF METAL BILLET(IN mm) ', 'ROLL PRESSURE(IN MPa)\\n', 'AVERAGE FLOW STRESS(бfm)\\n(IN MPa)\\n', 'PRESSURE INTENSIFICATION FACTOR(Qp)']\n",
            "Percentile: \t\t\t0.3391304347826087\n",
            "Validation Accuracy: \t\t0.059636559675765\n",
            "Individual: \t[1, 1, 1, 0, 0, 0, 0]\n",
            "Number Features In Subset: \t3\n",
            "Feature Subset: ['SAMPLE ID ', 'LENGTH OF METAL BILLET(IN mm)(L)', 'WIDTH OF METAL BILLET(IN mm)']\n",
            "Percentile: \t\t\t0.34782608695652173\n",
            "Validation Accuracy: \t\t0.059636559675765\n",
            "Individual: \t[1, 1, 1, 1, 1, 0, 0]\n",
            "Number Features In Subset: \t5\n",
            "Feature Subset: ['SAMPLE ID ', 'LENGTH OF METAL BILLET(IN mm)(L)', 'WIDTH OF METAL BILLET(IN mm)', 'HEIGHT OF METAL BILLET(IN mm) ', 'ROLL PRESSURE(IN MPa)\\n']\n",
            "Percentile: \t\t\t0.3565217391304348\n",
            "Validation Accuracy: \t\t0.059636559675765\n",
            "Individual: \t[0, 0, 0, 0, 0, 1, 1]\n",
            "Number Features In Subset: \t2\n",
            "Feature Subset: ['AVERAGE FLOW STRESS(бfm)\\n(IN MPa)\\n', 'PRESSURE INTENSIFICATION FACTOR(Qp)']\n",
            "Percentile: \t\t\t0.3652173913043478\n",
            "Validation Accuracy: \t\t0.059636559675765\n",
            "Individual: \t[1, 0, 1, 0, 0, 0, 1]\n",
            "Number Features In Subset: \t3\n",
            "Feature Subset: ['SAMPLE ID ', 'WIDTH OF METAL BILLET(IN mm)', 'PRESSURE INTENSIFICATION FACTOR(Qp)']\n",
            "Percentile: \t\t\t0.3739130434782609\n",
            "Validation Accuracy: \t\t0.059636559675765\n",
            "Individual: \t[1, 1, 0, 1, 1, 0, 0]\n",
            "Number Features In Subset: \t4\n",
            "Feature Subset: ['SAMPLE ID ', 'LENGTH OF METAL BILLET(IN mm)(L)', 'HEIGHT OF METAL BILLET(IN mm) ', 'ROLL PRESSURE(IN MPa)\\n']\n",
            "Percentile: \t\t\t0.3826086956521739\n",
            "Validation Accuracy: \t\t0.059636559675765\n",
            "Individual: \t[0, 1, 1, 1, 0, 1, 1]\n",
            "Number Features In Subset: \t5\n",
            "Feature Subset: ['LENGTH OF METAL BILLET(IN mm)(L)', 'WIDTH OF METAL BILLET(IN mm)', 'HEIGHT OF METAL BILLET(IN mm) ', 'AVERAGE FLOW STRESS(бfm)\\n(IN MPa)\\n', 'PRESSURE INTENSIFICATION FACTOR(Qp)']\n",
            "Percentile: \t\t\t0.391304347826087\n",
            "Validation Accuracy: \t\t0.059636559675765\n",
            "Individual: \t[0, 1, 0, 1, 0, 1, 0]\n",
            "Number Features In Subset: \t3\n",
            "Feature Subset: ['LENGTH OF METAL BILLET(IN mm)(L)', 'HEIGHT OF METAL BILLET(IN mm) ', 'AVERAGE FLOW STRESS(бfm)\\n(IN MPa)\\n']\n",
            "Percentile: \t\t\t0.4\n",
            "Validation Accuracy: \t\t0.059636559675765\n",
            "Individual: \t[0, 1, 1, 0, 0, 0, 1]\n",
            "Number Features In Subset: \t3\n",
            "Feature Subset: ['LENGTH OF METAL BILLET(IN mm)(L)', 'WIDTH OF METAL BILLET(IN mm)', 'PRESSURE INTENSIFICATION FACTOR(Qp)']\n",
            "Percentile: \t\t\t0.40869565217391307\n",
            "Validation Accuracy: \t\t0.059636559675765\n",
            "Individual: \t[0, 0, 0, 1, 0, 0, 1]\n",
            "Number Features In Subset: \t2\n",
            "Feature Subset: ['HEIGHT OF METAL BILLET(IN mm) ', 'PRESSURE INTENSIFICATION FACTOR(Qp)']\n",
            "Percentile: \t\t\t0.41739130434782606\n",
            "Validation Accuracy: \t\t0.059636559675765\n",
            "Individual: \t[0, 1, 0, 0, 0, 0, 0]\n",
            "Number Features In Subset: \t1\n",
            "Feature Subset: ['LENGTH OF METAL BILLET(IN mm)(L)']\n",
            "Percentile: \t\t\t0.4260869565217391\n",
            "Validation Accuracy: \t\t0.059636559675765\n",
            "Individual: \t[0, 0, 0, 1, 1, 1, 0]\n",
            "Number Features In Subset: \t3\n",
            "Feature Subset: ['HEIGHT OF METAL BILLET(IN mm) ', 'ROLL PRESSURE(IN MPa)\\n', 'AVERAGE FLOW STRESS(бfm)\\n(IN MPa)\\n']\n",
            "Percentile: \t\t\t0.43478260869565216\n",
            "Validation Accuracy: \t\t0.059636559675765\n",
            "Individual: \t[1, 1, 0, 0, 0, 1, 0]\n",
            "Number Features In Subset: \t3\n",
            "Feature Subset: ['SAMPLE ID ', 'LENGTH OF METAL BILLET(IN mm)(L)', 'AVERAGE FLOW STRESS(бfm)\\n(IN MPa)\\n']\n",
            "Percentile: \t\t\t0.4434782608695652\n",
            "Validation Accuracy: \t\t0.059636559675765\n",
            "Individual: \t[0, 0, 1, 0, 0, 1, 0]\n",
            "Number Features In Subset: \t2\n",
            "Feature Subset: ['WIDTH OF METAL BILLET(IN mm)', 'AVERAGE FLOW STRESS(бfm)\\n(IN MPa)\\n']\n",
            "Percentile: \t\t\t0.45217391304347826\n",
            "Validation Accuracy: \t\t0.059636559675765\n",
            "Individual: \t[1, 0, 0, 0, 0, 1, 0]\n",
            "Number Features In Subset: \t2\n",
            "Feature Subset: ['SAMPLE ID ', 'AVERAGE FLOW STRESS(бfm)\\n(IN MPa)\\n']\n",
            "Percentile: \t\t\t0.4608695652173913\n",
            "Validation Accuracy: \t\t0.059636559675765\n",
            "Individual: \t[1, 0, 0, 0, 1, 0, 0]\n",
            "Number Features In Subset: \t2\n",
            "Feature Subset: ['SAMPLE ID ', 'ROLL PRESSURE(IN MPa)\\n']\n",
            "Percentile: \t\t\t0.46956521739130436\n",
            "Validation Accuracy: \t\t0.059636559675765\n",
            "Individual: \t[0, 1, 0, 0, 0, 0, 1]\n",
            "Number Features In Subset: \t2\n",
            "Feature Subset: ['LENGTH OF METAL BILLET(IN mm)(L)', 'PRESSURE INTENSIFICATION FACTOR(Qp)']\n",
            "Percentile: \t\t\t0.4782608695652174\n",
            "Validation Accuracy: \t\t0.059636559675765\n",
            "Individual: \t[0, 1, 0, 0, 0, 1, 1]\n",
            "Number Features In Subset: \t3\n",
            "Feature Subset: ['LENGTH OF METAL BILLET(IN mm)(L)', 'AVERAGE FLOW STRESS(бfm)\\n(IN MPa)\\n', 'PRESSURE INTENSIFICATION FACTOR(Qp)']\n",
            "Percentile: \t\t\t0.48695652173913045\n",
            "Validation Accuracy: \t\t0.059636559675765\n",
            "Individual: \t[0, 0, 1, 0, 1, 1, 1]\n",
            "Number Features In Subset: \t4\n",
            "Feature Subset: ['WIDTH OF METAL BILLET(IN mm)', 'ROLL PRESSURE(IN MPa)\\n', 'AVERAGE FLOW STRESS(бfm)\\n(IN MPa)\\n', 'PRESSURE INTENSIFICATION FACTOR(Qp)']\n",
            "Percentile: \t\t\t0.4956521739130435\n",
            "Validation Accuracy: \t\t0.059636559675765\n",
            "Individual: \t[0, 1, 1, 1, 0, 0, 1]\n",
            "Number Features In Subset: \t4\n",
            "Feature Subset: ['LENGTH OF METAL BILLET(IN mm)(L)', 'WIDTH OF METAL BILLET(IN mm)', 'HEIGHT OF METAL BILLET(IN mm) ', 'PRESSURE INTENSIFICATION FACTOR(Qp)']\n",
            "Percentile: \t\t\t0.5043478260869565\n",
            "Validation Accuracy: \t\t0.059636559675765\n",
            "Individual: \t[0, 1, 0, 1, 0, 0, 1]\n",
            "Number Features In Subset: \t3\n",
            "Feature Subset: ['LENGTH OF METAL BILLET(IN mm)(L)', 'HEIGHT OF METAL BILLET(IN mm) ', 'PRESSURE INTENSIFICATION FACTOR(Qp)']\n",
            "Percentile: \t\t\t0.5130434782608696\n",
            "Validation Accuracy: \t\t0.059636559675765\n",
            "Individual: \t[1, 0, 0, 1, 0, 1, 1]\n",
            "Number Features In Subset: \t4\n",
            "Feature Subset: ['SAMPLE ID ', 'HEIGHT OF METAL BILLET(IN mm) ', 'AVERAGE FLOW STRESS(бfm)\\n(IN MPa)\\n', 'PRESSURE INTENSIFICATION FACTOR(Qp)']\n",
            "Percentile: \t\t\t0.5217391304347826\n",
            "Validation Accuracy: \t\t0.059636559675765\n",
            "Individual: \t[1, 1, 1, 0, 1, 1, 1]\n",
            "Number Features In Subset: \t6\n",
            "Feature Subset: ['SAMPLE ID ', 'LENGTH OF METAL BILLET(IN mm)(L)', 'WIDTH OF METAL BILLET(IN mm)', 'ROLL PRESSURE(IN MPa)\\n', 'AVERAGE FLOW STRESS(бfm)\\n(IN MPa)\\n', 'PRESSURE INTENSIFICATION FACTOR(Qp)']\n",
            "Percentile: \t\t\t0.5304347826086957\n",
            "Validation Accuracy: \t\t0.059636559675765\n",
            "Individual: \t[0, 0, 0, 0, 1, 1, 0]\n",
            "Number Features In Subset: \t2\n",
            "Feature Subset: ['ROLL PRESSURE(IN MPa)\\n', 'AVERAGE FLOW STRESS(бfm)\\n(IN MPa)\\n']\n",
            "Percentile: \t\t\t0.5391304347826087\n",
            "Validation Accuracy: \t\t0.059636559675765\n",
            "Individual: \t[0, 1, 0, 0, 1, 1, 0]\n",
            "Number Features In Subset: \t3\n",
            "Feature Subset: ['LENGTH OF METAL BILLET(IN mm)(L)', 'ROLL PRESSURE(IN MPa)\\n', 'AVERAGE FLOW STRESS(бfm)\\n(IN MPa)\\n']\n",
            "Percentile: \t\t\t0.5478260869565217\n",
            "Validation Accuracy: \t\t0.059636559675765\n",
            "Individual: \t[1, 1, 1, 0, 1, 0, 0]\n",
            "Number Features In Subset: \t4\n",
            "Feature Subset: ['SAMPLE ID ', 'LENGTH OF METAL BILLET(IN mm)(L)', 'WIDTH OF METAL BILLET(IN mm)', 'ROLL PRESSURE(IN MPa)\\n']\n",
            "Percentile: \t\t\t0.5565217391304348\n",
            "Validation Accuracy: \t\t0.059636559675765\n",
            "Individual: \t[0, 1, 1, 1, 0, 1, 0]\n",
            "Number Features In Subset: \t4\n",
            "Feature Subset: ['LENGTH OF METAL BILLET(IN mm)(L)', 'WIDTH OF METAL BILLET(IN mm)', 'HEIGHT OF METAL BILLET(IN mm) ', 'AVERAGE FLOW STRESS(бfm)\\n(IN MPa)\\n']\n",
            "Percentile: \t\t\t0.5652173913043478\n",
            "Validation Accuracy: \t\t0.059636559675765\n",
            "Individual: \t[0, 0, 0, 0, 1, 0, 1]\n",
            "Number Features In Subset: \t2\n",
            "Feature Subset: ['ROLL PRESSURE(IN MPa)\\n', 'PRESSURE INTENSIFICATION FACTOR(Qp)']\n",
            "Percentile: \t\t\t0.5739130434782609\n",
            "Validation Accuracy: \t\t0.059636559675765\n",
            "Individual: \t[1, 0, 0, 1, 1, 0, 0]\n",
            "Number Features In Subset: \t3\n",
            "Feature Subset: ['SAMPLE ID ', 'HEIGHT OF METAL BILLET(IN mm) ', 'ROLL PRESSURE(IN MPa)\\n']\n",
            "Percentile: \t\t\t0.5826086956521739\n",
            "Validation Accuracy: \t\t0.059636559675765\n",
            "Individual: \t[0, 1, 0, 1, 1, 0, 1]\n",
            "Number Features In Subset: \t4\n",
            "Feature Subset: ['LENGTH OF METAL BILLET(IN mm)(L)', 'HEIGHT OF METAL BILLET(IN mm) ', 'ROLL PRESSURE(IN MPa)\\n', 'PRESSURE INTENSIFICATION FACTOR(Qp)']\n",
            "Percentile: \t\t\t0.591304347826087\n",
            "Validation Accuracy: \t\t0.059636559675765\n",
            "Individual: \t[0, 0, 1, 0, 1, 0, 1]\n",
            "Number Features In Subset: \t3\n",
            "Feature Subset: ['WIDTH OF METAL BILLET(IN mm)', 'ROLL PRESSURE(IN MPa)\\n', 'PRESSURE INTENSIFICATION FACTOR(Qp)']\n",
            "Percentile: \t\t\t0.6\n",
            "Validation Accuracy: \t\t0.059636559675765\n",
            "Individual: \t[1, 0, 1, 0, 1, 1, 1]\n",
            "Number Features In Subset: \t5\n",
            "Feature Subset: ['SAMPLE ID ', 'WIDTH OF METAL BILLET(IN mm)', 'ROLL PRESSURE(IN MPa)\\n', 'AVERAGE FLOW STRESS(бfm)\\n(IN MPa)\\n', 'PRESSURE INTENSIFICATION FACTOR(Qp)']\n",
            "Percentile: \t\t\t0.6086956521739131\n",
            "Validation Accuracy: \t\t0.059636559675765\n",
            "Individual: \t[1, 0, 1, 1, 1, 1, 1]\n",
            "Number Features In Subset: \t6\n",
            "Feature Subset: ['SAMPLE ID ', 'WIDTH OF METAL BILLET(IN mm)', 'HEIGHT OF METAL BILLET(IN mm) ', 'ROLL PRESSURE(IN MPa)\\n', 'AVERAGE FLOW STRESS(бfm)\\n(IN MPa)\\n', 'PRESSURE INTENSIFICATION FACTOR(Qp)']\n",
            "Percentile: \t\t\t0.6173913043478261\n",
            "Validation Accuracy: \t\t0.059636559675765\n",
            "Individual: \t[0, 0, 0, 0, 0, 1, 0]\n",
            "Number Features In Subset: \t1\n",
            "Feature Subset: ['AVERAGE FLOW STRESS(бfm)\\n(IN MPa)\\n']\n",
            "Percentile: \t\t\t0.6260869565217392\n",
            "Validation Accuracy: \t\t0.059636559675765\n",
            "Individual: \t[0, 1, 0, 1, 0, 0, 0]\n",
            "Number Features In Subset: \t2\n",
            "Feature Subset: ['LENGTH OF METAL BILLET(IN mm)(L)', 'HEIGHT OF METAL BILLET(IN mm) ']\n",
            "Percentile: \t\t\t0.6347826086956522\n",
            "Validation Accuracy: \t\t0.059636559675765\n",
            "Individual: \t[0, 0, 0, 0, 0, 0, 1]\n",
            "Number Features In Subset: \t1\n",
            "Feature Subset: ['PRESSURE INTENSIFICATION FACTOR(Qp)']\n",
            "Percentile: \t\t\t0.6434782608695652\n",
            "Validation Accuracy: \t\t0.059636559675765\n",
            "Individual: \t[1, 1, 0, 0, 1, 0, 0]\n",
            "Number Features In Subset: \t3\n",
            "Feature Subset: ['SAMPLE ID ', 'LENGTH OF METAL BILLET(IN mm)(L)', 'ROLL PRESSURE(IN MPa)\\n']\n",
            "Percentile: \t\t\t0.6521739130434783\n",
            "Validation Accuracy: \t\t0.059636559675765\n",
            "Individual: \t[0, 0, 0, 0, 1, 1, 1]\n",
            "Number Features In Subset: \t3\n",
            "Feature Subset: ['ROLL PRESSURE(IN MPa)\\n', 'AVERAGE FLOW STRESS(бfm)\\n(IN MPa)\\n', 'PRESSURE INTENSIFICATION FACTOR(Qp)']\n",
            "Percentile: \t\t\t0.6608695652173913\n",
            "Validation Accuracy: \t\t0.059636559675765\n",
            "Individual: \t[0, 1, 0, 0, 1, 1, 1]\n",
            "Number Features In Subset: \t4\n",
            "Feature Subset: ['LENGTH OF METAL BILLET(IN mm)(L)', 'ROLL PRESSURE(IN MPa)\\n', 'AVERAGE FLOW STRESS(бfm)\\n(IN MPa)\\n', 'PRESSURE INTENSIFICATION FACTOR(Qp)']\n",
            "Percentile: \t\t\t0.6695652173913044\n",
            "Validation Accuracy: \t\t0.059636559675765\n",
            "Individual: \t[1, 0, 0, 0, 0, 0, 0]\n",
            "Number Features In Subset: \t1\n",
            "Feature Subset: ['SAMPLE ID ']\n",
            "Percentile: \t\t\t0.6782608695652174\n",
            "Validation Accuracy: \t\t0.059636559675765\n",
            "Individual: \t[1, 0, 0, 0, 0, 0, 1]\n",
            "Number Features In Subset: \t2\n",
            "Feature Subset: ['SAMPLE ID ', 'PRESSURE INTENSIFICATION FACTOR(Qp)']\n",
            "Percentile: \t\t\t0.6869565217391305\n",
            "Validation Accuracy: \t\t0.059636559675765\n",
            "Individual: \t[1, 0, 0, 0, 1, 1, 1]\n",
            "Number Features In Subset: \t4\n",
            "Feature Subset: ['SAMPLE ID ', 'ROLL PRESSURE(IN MPa)\\n', 'AVERAGE FLOW STRESS(бfm)\\n(IN MPa)\\n', 'PRESSURE INTENSIFICATION FACTOR(Qp)']\n",
            "Percentile: \t\t\t0.6956521739130435\n",
            "Validation Accuracy: \t\t0.059636559675765\n",
            "Individual: \t[1, 0, 1, 1, 0, 0, 1]\n",
            "Number Features In Subset: \t4\n",
            "Feature Subset: ['SAMPLE ID ', 'WIDTH OF METAL BILLET(IN mm)', 'HEIGHT OF METAL BILLET(IN mm) ', 'PRESSURE INTENSIFICATION FACTOR(Qp)']\n",
            "Percentile: \t\t\t0.7043478260869566\n",
            "Validation Accuracy: \t\t0.059636559675765\n",
            "Individual: \t[1, 0, 1, 0, 1, 0, 1]\n",
            "Number Features In Subset: \t4\n",
            "Feature Subset: ['SAMPLE ID ', 'WIDTH OF METAL BILLET(IN mm)', 'ROLL PRESSURE(IN MPa)\\n', 'PRESSURE INTENSIFICATION FACTOR(Qp)']\n",
            "Percentile: \t\t\t0.7130434782608696\n",
            "Validation Accuracy: \t\t0.059636559675765\n",
            "Individual: \t[0, 0, 1, 1, 1, 0, 1]\n",
            "Number Features In Subset: \t4\n",
            "Feature Subset: ['WIDTH OF METAL BILLET(IN mm)', 'HEIGHT OF METAL BILLET(IN mm) ', 'ROLL PRESSURE(IN MPa)\\n', 'PRESSURE INTENSIFICATION FACTOR(Qp)']\n",
            "Percentile: \t\t\t0.7217391304347827\n",
            "Validation Accuracy: \t\t0.059636559675765\n",
            "Individual: \t[1, 0, 1, 0, 0, 0, 0]\n",
            "Number Features In Subset: \t2\n",
            "Feature Subset: ['SAMPLE ID ', 'WIDTH OF METAL BILLET(IN mm)']\n",
            "Percentile: \t\t\t0.7304347826086957\n",
            "Validation Accuracy: \t\t0.059636559675765\n",
            "Individual: \t[0, 1, 1, 0, 0, 1, 0]\n",
            "Number Features In Subset: \t3\n",
            "Feature Subset: ['LENGTH OF METAL BILLET(IN mm)(L)', 'WIDTH OF METAL BILLET(IN mm)', 'AVERAGE FLOW STRESS(бfm)\\n(IN MPa)\\n']\n",
            "Percentile: \t\t\t0.7391304347826086\n",
            "Validation Accuracy: \t\t0.059636559675765\n",
            "Individual: \t[1, 1, 0, 1, 1, 0, 1]\n",
            "Number Features In Subset: \t5\n",
            "Feature Subset: ['SAMPLE ID ', 'LENGTH OF METAL BILLET(IN mm)(L)', 'HEIGHT OF METAL BILLET(IN mm) ', 'ROLL PRESSURE(IN MPa)\\n', 'PRESSURE INTENSIFICATION FACTOR(Qp)']\n",
            "Percentile: \t\t\t0.7478260869565218\n",
            "Validation Accuracy: \t\t0.059636559675765\n",
            "Individual: \t[0, 1, 0, 0, 1, 0, 1]\n",
            "Number Features In Subset: \t3\n",
            "Feature Subset: ['LENGTH OF METAL BILLET(IN mm)(L)', 'ROLL PRESSURE(IN MPa)\\n', 'PRESSURE INTENSIFICATION FACTOR(Qp)']\n",
            "Percentile: \t\t\t0.7565217391304347\n",
            "Validation Accuracy: \t\t0.059636559675765\n",
            "Individual: \t[0, 0, 1, 1, 1, 1, 1]\n",
            "Number Features In Subset: \t5\n",
            "Feature Subset: ['WIDTH OF METAL BILLET(IN mm)', 'HEIGHT OF METAL BILLET(IN mm) ', 'ROLL PRESSURE(IN MPa)\\n', 'AVERAGE FLOW STRESS(бfm)\\n(IN MPa)\\n', 'PRESSURE INTENSIFICATION FACTOR(Qp)']\n",
            "Percentile: \t\t\t0.7652173913043478\n",
            "Validation Accuracy: \t\t0.059636559675765\n",
            "Individual: \t[0, 1, 1, 0, 1, 1, 0]\n",
            "Number Features In Subset: \t4\n",
            "Feature Subset: ['LENGTH OF METAL BILLET(IN mm)(L)', 'WIDTH OF METAL BILLET(IN mm)', 'ROLL PRESSURE(IN MPa)\\n', 'AVERAGE FLOW STRESS(бfm)\\n(IN MPa)\\n']\n",
            "Percentile: \t\t\t0.7739130434782608\n",
            "Validation Accuracy: \t\t0.059636559675765\n",
            "Individual: \t[0, 0, 1, 1, 0, 1, 1]\n",
            "Number Features In Subset: \t4\n",
            "Feature Subset: ['WIDTH OF METAL BILLET(IN mm)', 'HEIGHT OF METAL BILLET(IN mm) ', 'AVERAGE FLOW STRESS(бfm)\\n(IN MPa)\\n', 'PRESSURE INTENSIFICATION FACTOR(Qp)']\n",
            "Percentile: \t\t\t0.782608695652174\n",
            "Validation Accuracy: \t\t0.059636559675765\n",
            "Individual: \t[1, 1, 1, 1, 1, 1, 1]\n",
            "Number Features In Subset: \t7\n",
            "Feature Subset: ['SAMPLE ID ', 'LENGTH OF METAL BILLET(IN mm)(L)', 'WIDTH OF METAL BILLET(IN mm)', 'HEIGHT OF METAL BILLET(IN mm) ', 'ROLL PRESSURE(IN MPa)\\n', 'AVERAGE FLOW STRESS(бfm)\\n(IN MPa)\\n', 'PRESSURE INTENSIFICATION FACTOR(Qp)']\n",
            "Percentile: \t\t\t0.7913043478260869\n",
            "Validation Accuracy: \t\t0.059636559675765\n",
            "Individual: \t[0, 0, 1, 0, 0, 1, 1]\n",
            "Number Features In Subset: \t3\n",
            "Feature Subset: ['WIDTH OF METAL BILLET(IN mm)', 'AVERAGE FLOW STRESS(бfm)\\n(IN MPa)\\n', 'PRESSURE INTENSIFICATION FACTOR(Qp)']\n",
            "Percentile: \t\t\t0.8\n",
            "Validation Accuracy: \t\t0.059636559675765\n",
            "Individual: \t[1, 1, 1, 0, 1, 1, 0]\n",
            "Number Features In Subset: \t5\n",
            "Feature Subset: ['SAMPLE ID ', 'LENGTH OF METAL BILLET(IN mm)(L)', 'WIDTH OF METAL BILLET(IN mm)', 'ROLL PRESSURE(IN MPa)\\n', 'AVERAGE FLOW STRESS(бfm)\\n(IN MPa)\\n']\n",
            "Percentile: \t\t\t0.808695652173913\n",
            "Validation Accuracy: \t\t0.059636559675765\n",
            "Individual: \t[0, 0, 1, 1, 1, 0, 0]\n",
            "Number Features In Subset: \t3\n",
            "Feature Subset: ['WIDTH OF METAL BILLET(IN mm)', 'HEIGHT OF METAL BILLET(IN mm) ', 'ROLL PRESSURE(IN MPa)\\n']\n",
            "Percentile: \t\t\t0.8173913043478261\n",
            "Validation Accuracy: \t\t0.059636559675765\n",
            "Individual: \t[0, 0, 1, 1, 0, 0, 1]\n",
            "Number Features In Subset: \t3\n",
            "Feature Subset: ['WIDTH OF METAL BILLET(IN mm)', 'HEIGHT OF METAL BILLET(IN mm) ', 'PRESSURE INTENSIFICATION FACTOR(Qp)']\n",
            "Percentile: \t\t\t0.8260869565217391\n",
            "Validation Accuracy: \t\t0.059636559675765\n",
            "Individual: \t[0, 0, 0, 0, 0, 0, 0]\n",
            "Number Features In Subset: \t0\n",
            "Feature Subset: []\n",
            "Percentile: \t\t\t0.8347826086956521\n",
            "Validation Accuracy: \t\t0.059636559675765\n",
            "Individual: \t[0, 0, 1, 1, 1, 1, 0]\n",
            "Number Features In Subset: \t4\n",
            "Feature Subset: ['WIDTH OF METAL BILLET(IN mm)', 'HEIGHT OF METAL BILLET(IN mm) ', 'ROLL PRESSURE(IN MPa)\\n', 'AVERAGE FLOW STRESS(бfm)\\n(IN MPa)\\n']\n",
            "Percentile: \t\t\t0.8434782608695652\n",
            "Validation Accuracy: \t\t0.059636559675765\n",
            "Individual: \t[0, 0, 0, 1, 1, 0, 1]\n",
            "Number Features In Subset: \t3\n",
            "Feature Subset: ['HEIGHT OF METAL BILLET(IN mm) ', 'ROLL PRESSURE(IN MPa)\\n', 'PRESSURE INTENSIFICATION FACTOR(Qp)']\n",
            "Percentile: \t\t\t0.8521739130434782\n",
            "Validation Accuracy: \t\t0.059636559675765\n",
            "Individual: \t[0, 1, 0, 1, 0, 1, 1]\n",
            "Number Features In Subset: \t4\n",
            "Feature Subset: ['LENGTH OF METAL BILLET(IN mm)(L)', 'HEIGHT OF METAL BILLET(IN mm) ', 'AVERAGE FLOW STRESS(бfm)\\n(IN MPa)\\n', 'PRESSURE INTENSIFICATION FACTOR(Qp)']\n",
            "Percentile: \t\t\t0.8608695652173913\n",
            "Validation Accuracy: \t\t0.059636559675765\n",
            "Individual: \t[1, 1, 1, 1, 1, 1, 0]\n",
            "Number Features In Subset: \t6\n",
            "Feature Subset: ['SAMPLE ID ', 'LENGTH OF METAL BILLET(IN mm)(L)', 'WIDTH OF METAL BILLET(IN mm)', 'HEIGHT OF METAL BILLET(IN mm) ', 'ROLL PRESSURE(IN MPa)\\n', 'AVERAGE FLOW STRESS(бfm)\\n(IN MPa)\\n']\n",
            "Percentile: \t\t\t0.8695652173913043\n",
            "Validation Accuracy: \t\t0.059636559675765\n",
            "Individual: \t[1, 1, 1, 1, 0, 1, 0]\n",
            "Number Features In Subset: \t5\n",
            "Feature Subset: ['SAMPLE ID ', 'LENGTH OF METAL BILLET(IN mm)(L)', 'WIDTH OF METAL BILLET(IN mm)', 'HEIGHT OF METAL BILLET(IN mm) ', 'AVERAGE FLOW STRESS(бfm)\\n(IN MPa)\\n']\n",
            "Percentile: \t\t\t0.8782608695652174\n",
            "Validation Accuracy: \t\t0.059636559675765\n",
            "Individual: \t[0, 0, 0, 0, 1, 0, 0]\n",
            "Number Features In Subset: \t1\n",
            "Feature Subset: ['ROLL PRESSURE(IN MPa)\\n']\n",
            "Percentile: \t\t\t0.8869565217391304\n",
            "Validation Accuracy: \t\t0.059636559675765\n",
            "Individual: \t[1, 1, 0, 0, 1, 1, 1]\n",
            "Number Features In Subset: \t5\n",
            "Feature Subset: ['SAMPLE ID ', 'LENGTH OF METAL BILLET(IN mm)(L)', 'ROLL PRESSURE(IN MPa)\\n', 'AVERAGE FLOW STRESS(бfm)\\n(IN MPa)\\n', 'PRESSURE INTENSIFICATION FACTOR(Qp)']\n",
            "Percentile: \t\t\t0.8956521739130435\n",
            "Validation Accuracy: \t\t0.059636559675765\n",
            "Individual: \t[1, 0, 1, 1, 1, 0, 1]\n",
            "Number Features In Subset: \t5\n",
            "Feature Subset: ['SAMPLE ID ', 'WIDTH OF METAL BILLET(IN mm)', 'HEIGHT OF METAL BILLET(IN mm) ', 'ROLL PRESSURE(IN MPa)\\n', 'PRESSURE INTENSIFICATION FACTOR(Qp)']\n",
            "Percentile: \t\t\t0.9043478260869565\n",
            "Validation Accuracy: \t\t0.059636559675765\n",
            "Individual: \t[1, 0, 0, 1, 0, 0, 1]\n",
            "Number Features In Subset: \t3\n",
            "Feature Subset: ['SAMPLE ID ', 'HEIGHT OF METAL BILLET(IN mm) ', 'PRESSURE INTENSIFICATION FACTOR(Qp)']\n",
            "Percentile: \t\t\t0.9130434782608695\n",
            "Validation Accuracy: \t\t0.059636559675765\n",
            "Individual: \t[1, 0, 1, 0, 0, 1, 0]\n",
            "Number Features In Subset: \t3\n",
            "Feature Subset: ['SAMPLE ID ', 'WIDTH OF METAL BILLET(IN mm)', 'AVERAGE FLOW STRESS(бfm)\\n(IN MPa)\\n']\n",
            "Percentile: \t\t\t0.9217391304347826\n",
            "Validation Accuracy: \t\t0.059636559675765\n",
            "Individual: \t[1, 0, 1, 0, 1, 0, 0]\n",
            "Number Features In Subset: \t3\n",
            "Feature Subset: ['SAMPLE ID ', 'WIDTH OF METAL BILLET(IN mm)', 'ROLL PRESSURE(IN MPa)\\n']\n",
            "Percentile: \t\t\t0.9304347826086956\n",
            "Validation Accuracy: \t\t0.059636559675765\n",
            "Individual: \t[0, 1, 0, 1, 1, 1, 0]\n",
            "Number Features In Subset: \t4\n",
            "Feature Subset: ['LENGTH OF METAL BILLET(IN mm)(L)', 'HEIGHT OF METAL BILLET(IN mm) ', 'ROLL PRESSURE(IN MPa)\\n', 'AVERAGE FLOW STRESS(бfm)\\n(IN MPa)\\n']\n",
            "Percentile: \t\t\t0.9391304347826087\n",
            "Validation Accuracy: \t\t0.059636559675765\n",
            "Individual: \t[1, 0, 1, 0, 1, 1, 0]\n",
            "Number Features In Subset: \t4\n",
            "Feature Subset: ['SAMPLE ID ', 'WIDTH OF METAL BILLET(IN mm)', 'ROLL PRESSURE(IN MPa)\\n', 'AVERAGE FLOW STRESS(бfm)\\n(IN MPa)\\n']\n",
            "Percentile: \t\t\t0.9478260869565217\n",
            "Validation Accuracy: \t\t0.059636559675765\n",
            "Individual: \t[0, 1, 0, 0, 0, 1, 0]\n",
            "Number Features In Subset: \t2\n",
            "Feature Subset: ['LENGTH OF METAL BILLET(IN mm)(L)', 'AVERAGE FLOW STRESS(бfm)\\n(IN MPa)\\n']\n",
            "Percentile: \t\t\t0.9565217391304348\n",
            "Validation Accuracy: \t\t0.059636559675765\n",
            "Individual: \t[1, 0, 1, 0, 0, 1, 1]\n",
            "Number Features In Subset: \t4\n",
            "Feature Subset: ['SAMPLE ID ', 'WIDTH OF METAL BILLET(IN mm)', 'AVERAGE FLOW STRESS(бfm)\\n(IN MPa)\\n', 'PRESSURE INTENSIFICATION FACTOR(Qp)']\n",
            "Percentile: \t\t\t0.9652173913043478\n",
            "Validation Accuracy: \t\t0.059636559675765\n",
            "Individual: \t[0, 1, 1, 0, 1, 0, 0]\n",
            "Number Features In Subset: \t3\n",
            "Feature Subset: ['LENGTH OF METAL BILLET(IN mm)(L)', 'WIDTH OF METAL BILLET(IN mm)', 'ROLL PRESSURE(IN MPa)\\n']\n",
            "Percentile: \t\t\t0.9739130434782609\n",
            "Validation Accuracy: \t\t0.059636559675765\n",
            "Individual: \t[0, 0, 0, 1, 0, 0, 0]\n",
            "Number Features In Subset: \t1\n",
            "Feature Subset: ['HEIGHT OF METAL BILLET(IN mm) ']\n",
            "Percentile: \t\t\t0.9826086956521739\n",
            "Validation Accuracy: \t\t0.059636559675765\n",
            "Individual: \t[1, 0, 0, 0, 1, 1, 0]\n",
            "Number Features In Subset: \t3\n",
            "Feature Subset: ['SAMPLE ID ', 'ROLL PRESSURE(IN MPa)\\n', 'AVERAGE FLOW STRESS(бfm)\\n(IN MPa)\\n']\n",
            "Percentile: \t\t\t0.991304347826087\n",
            "Validation Accuracy: \t\t0.059636559675765\n",
            "Individual: \t[1, 1, 1, 0, 0, 0, 1]\n",
            "Number Features In Subset: \t4\n",
            "Feature Subset: ['SAMPLE ID ', 'LENGTH OF METAL BILLET(IN mm)(L)', 'WIDTH OF METAL BILLET(IN mm)', 'PRESSURE INTENSIFICATION FACTOR(Qp)']\n",
            "Percentile: \t\t\t1.0\n",
            "Validation Accuracy: \t\t0.059636559675765\n",
            "Individual: \t[0, 1, 1, 0, 0, 0, 0]\n",
            "Number Features In Subset: \t2\n",
            "Feature Subset: ['LENGTH OF METAL BILLET(IN mm)(L)', 'WIDTH OF METAL BILLET(IN mm)']\n"
          ],
          "name": "stdout"
        }
      ]
    },
    {
      "cell_type": "code",
      "metadata": {
        "id": "SqEUK4ve8Vqm",
        "colab_type": "code",
        "colab": {
          "base_uri": "https://localhost:8080/",
          "height": 901
        },
        "outputId": "17312cdc-f3b6-4e44-c233-632b6966a4cb"
      },
      "source": [
        "\n",
        "\t# Calculate best fit line for validation classification accuracy (non-linear)\n",
        "tck = interpolate.splrep(percentileList, validationAccuracyList, s=5.0)\n",
        "ynew = interpolate.splev(percentileList, tck)\n",
        "\n",
        "e = plt.figure(1)\n",
        "plt.plot(percentileList, validationAccuracyList, marker='o', color='r')\n",
        "plt.plot(percentileList, ynew, color='b')\n",
        "plt.title('Validation Set Classification Accuracy vs. \\n Continuum with Cubic-Spline Interpolation')\n",
        "plt.xlabel('Population Ordered By Increasing Test Set Accuracy')\n",
        "plt.ylabel('Validation Set Accuracy')\n",
        "e.show()\n",
        "\n",
        "f = plt.figure(2)\n",
        "plt.scatter(percentileList, validationAccuracyList)\n",
        "plt.title('Validation Set Classification Accuracy vs. Continuum')\n",
        "plt.xlabel('Population Ordered By Increasing Test Set Accuracy')\n",
        "plt.ylabel('Validation Set Accuracy')\n",
        "f.show()\n",
        "\n",
        "g = plt.figure(3)\n",
        "plt.scatter(percentileList, testAccuracyList)\n",
        "plt.title('Test Set Classification Accuracy vs. Continuum')\n",
        "plt.xlabel('Population Ordered By Increasing Test Set Accuracy')\n",
        "plt.ylabel('Test Set Accuracy')\n",
        "g.show()\n",
        "\n",
        "input()"
      ],
      "execution_count": null,
      "outputs": [
        {
          "output_type": "stream",
          "text": [
            "j\n"
          ],
          "name": "stdout"
        },
        {
          "output_type": "execute_result",
          "data": {
            "application/vnd.google.colaboratory.intrinsic+json": {
              "type": "string"
            },
            "text/plain": [
              "'j'"
            ]
          },
          "metadata": {
            "tags": []
          },
          "execution_count": 141
        },
        {
          "output_type": "display_data",
          "data": {
            "image/png": "[encoded data removed]",
            "text/plain": [
              "<Figure size 432x288 with 1 Axes>"
            ]
          },
          "metadata": {
            "tags": [],
            "needs_background": "light"
          }
        },
        {
          "output_type": "display_data",
          "data": {
            "image/png": "[encoded data removed]",
            "text/plain": [
              "<Figure size 432x288 with 1 Axes>"
            ]
          },
          "metadata": {
            "tags": [],
            "needs_background": "light"
          }
        },
        {
          "output_type": "display_data",
          "data": {
            "image/png": "[encoded data removed]",
            "text/plain": [
              "<Figure size 432x288 with 1 Axes>"
            ]
          },
          "metadata": {
            "tags": [],
            "needs_background": "light"
          }
        }
      ]
    },
    {
      "cell_type": "code",
      "metadata": {
        "id": "4LNyVOYz8WCM",
        "colab_type": "code",
        "colab": {}
      },
      "source": [
        ""
      ],
      "execution_count": null,
      "outputs": []
    },
    {
      "cell_type": "code",
      "metadata": {
        "id": "Yo0DIyCoBBYJ",
        "colab_type": "code",
        "colab": {}
      },
      "source": [
        ""
      ],
      "execution_count": null,
      "outputs": []
    },
    {
      "cell_type": "code",
      "metadata": {
        "id": "dI1stB16BBap",
        "colab_type": "code",
        "colab": {}
      },
      "source": [
        ""
      ],
      "execution_count": null,
      "outputs": []
    },
    {
      "cell_type": "code",
      "metadata": {
        "id": "T9GKQNOpBBdX",
        "colab_type": "code",
        "colab": {}
      },
      "source": [
        ""
      ],
      "execution_count": null,
      "outputs": []
    },
    {
      "cell_type": "code",
      "metadata": {
        "id": "oqIeZXGwBBgK",
        "colab_type": "code",
        "colab": {}
      },
      "source": [
        ""
      ],
      "execution_count": null,
      "outputs": []
    },
    {
      "cell_type": "code",
      "metadata": {
        "id": "ivvoyyPqBBjE",
        "colab_type": "code",
        "colab": {}
      },
      "source": [
        ""
      ],
      "execution_count": null,
      "outputs": []
    },
    {
      "cell_type": "code",
      "metadata": {
        "id": "oemdD0aYBBl2",
        "colab_type": "code",
        "colab": {}
      },
      "source": [
        ""
      ],
      "execution_count": null,
      "outputs": []
    },
    {
      "cell_type": "code",
      "metadata": {
        "id": "BGPYPkRxBBo_",
        "colab_type": "code",
        "colab": {}
      },
      "source": [
        "\n"
      ],
      "execution_count": null,
      "outputs": []
    },
    {
      "cell_type": "code",
      "metadata": {
        "id": "_H6EsrohBBro",
        "colab_type": "code",
        "colab": {}
      },
      "source": [
        ""
      ],
      "execution_count": null,
      "outputs": []
    },
    {
      "cell_type": "code",
      "metadata": {
        "id": "T824G2vjBBuR",
        "colab_type": "code",
        "colab": {}
      },
      "source": [
        ""
      ],
      "execution_count": null,
      "outputs": []
    },
    {
      "cell_type": "code",
      "metadata": {
        "id": "o8FIuJFKBBwz",
        "colab_type": "code",
        "colab": {}
      },
      "source": [
        ""
      ],
      "execution_count": null,
      "outputs": []
    },
    {
      "cell_type": "code",
      "metadata": {
        "id": "CFpP4q1-BBz-",
        "colab_type": "code",
        "colab": {}
      },
      "source": [
        ""
      ],
      "execution_count": null,
      "outputs": []
    },
    {
      "cell_type": "code",
      "metadata": {
        "id": "hnV6qpZ9BB2k",
        "colab_type": "code",
        "colab": {}
      },
      "source": [
        ""
      ],
      "execution_count": null,
      "outputs": []
    },
    {
      "cell_type": "code",
      "metadata": {
        "id": "BD7Lue4WBB5v",
        "colab_type": "code",
        "colab": {}
      },
      "source": [
        ""
      ],
      "execution_count": null,
      "outputs": []
    },
    {
      "cell_type": "code",
      "metadata": {
        "id": "L291vZeCBXXB",
        "colab_type": "code",
        "colab": {}
      },
      "source": [
        ""
      ],
      "execution_count": null,
      "outputs": []
    }
  ]
}